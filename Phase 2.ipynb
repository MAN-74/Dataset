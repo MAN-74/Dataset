{
 "cells": [
  {
   "cell_type": "markdown",
   "id": "bcb78cb0-6d6b-4ce7-857c-9cd028c5f883",
   "metadata": {},
   "source": [
    "## Summary of the dataset:"
   ]
  },
  {
   "cell_type": "code",
   "execution_count": 263,
   "id": "ca8a5af0-44b9-435c-ba95-a8f72690df43",
   "metadata": {},
   "outputs": [],
   "source": [
    "import pandas as pd\n",
    "df = pd.read_csv(\"dataset/Housing.csv\")"
   ]
  },
  {
   "cell_type": "markdown",
   "id": "739766e4-e198-4f73-bf54-af0f26d63ffe",
   "metadata": {},
   "source": [
    "**Data Info:**\n"
   ]
  },
  {
   "cell_type": "code",
   "execution_count": 266,
   "id": "1da9fa33-b3c9-4f8e-913c-970011aa2946",
   "metadata": {},
   "outputs": [
    {
     "name": "stdout",
     "output_type": "stream",
     "text": [
      "<class 'pandas.core.frame.DataFrame'>\n",
      "RangeIndex: 545 entries, 0 to 544\n",
      "Data columns (total 13 columns):\n",
      " #   Column            Non-Null Count  Dtype \n",
      "---  ------            --------------  ----- \n",
      " 0   price             545 non-null    int64 \n",
      " 1   area              545 non-null    int64 \n",
      " 2   bedrooms          545 non-null    int64 \n",
      " 3   bathrooms         545 non-null    int64 \n",
      " 4   stories           545 non-null    int64 \n",
      " 5   mainroad          545 non-null    object\n",
      " 6   guestroom         545 non-null    object\n",
      " 7   basement          545 non-null    object\n",
      " 8   hotwaterheating   545 non-null    object\n",
      " 9   airconditioning   545 non-null    object\n",
      " 10  parking           545 non-null    int64 \n",
      " 11  prefarea          545 non-null    object\n",
      " 12  furnishingstatus  545 non-null    object\n",
      "dtypes: int64(6), object(7)\n",
      "memory usage: 55.5+ KB\n"
     ]
    }
   ],
   "source": [
    "df.info()"
   ]
  },
  {
   "cell_type": "markdown",
   "id": "174035bf-65bb-4049-92e6-311edf3941eb",
   "metadata": {},
   "source": [
    "**Numerical Summary:**\n"
   ]
  },
  {
   "cell_type": "code",
   "execution_count": 269,
   "id": "d26a091f-c1f5-440f-aa67-ee55749c27d5",
   "metadata": {},
   "outputs": [
    {
     "data": {
      "text/html": [
       "<div>\n",
       "<style scoped>\n",
       "    .dataframe tbody tr th:only-of-type {\n",
       "        vertical-align: middle;\n",
       "    }\n",
       "\n",
       "    .dataframe tbody tr th {\n",
       "        vertical-align: top;\n",
       "    }\n",
       "\n",
       "    .dataframe thead th {\n",
       "        text-align: right;\n",
       "    }\n",
       "</style>\n",
       "<table border=\"1\" class=\"dataframe\">\n",
       "  <thead>\n",
       "    <tr style=\"text-align: right;\">\n",
       "      <th></th>\n",
       "      <th>price</th>\n",
       "      <th>area</th>\n",
       "      <th>bedrooms</th>\n",
       "      <th>bathrooms</th>\n",
       "      <th>stories</th>\n",
       "      <th>parking</th>\n",
       "    </tr>\n",
       "  </thead>\n",
       "  <tbody>\n",
       "    <tr>\n",
       "      <th>count</th>\n",
       "      <td>5.450000e+02</td>\n",
       "      <td>545.000000</td>\n",
       "      <td>545.000000</td>\n",
       "      <td>545.000000</td>\n",
       "      <td>545.000000</td>\n",
       "      <td>545.000000</td>\n",
       "    </tr>\n",
       "    <tr>\n",
       "      <th>mean</th>\n",
       "      <td>4.766729e+06</td>\n",
       "      <td>5150.541284</td>\n",
       "      <td>2.965138</td>\n",
       "      <td>1.286239</td>\n",
       "      <td>1.805505</td>\n",
       "      <td>0.693578</td>\n",
       "    </tr>\n",
       "    <tr>\n",
       "      <th>std</th>\n",
       "      <td>1.870440e+06</td>\n",
       "      <td>2170.141023</td>\n",
       "      <td>0.738064</td>\n",
       "      <td>0.502470</td>\n",
       "      <td>0.867492</td>\n",
       "      <td>0.861586</td>\n",
       "    </tr>\n",
       "    <tr>\n",
       "      <th>min</th>\n",
       "      <td>1.750000e+06</td>\n",
       "      <td>1650.000000</td>\n",
       "      <td>1.000000</td>\n",
       "      <td>1.000000</td>\n",
       "      <td>1.000000</td>\n",
       "      <td>0.000000</td>\n",
       "    </tr>\n",
       "    <tr>\n",
       "      <th>25%</th>\n",
       "      <td>3.430000e+06</td>\n",
       "      <td>3600.000000</td>\n",
       "      <td>2.000000</td>\n",
       "      <td>1.000000</td>\n",
       "      <td>1.000000</td>\n",
       "      <td>0.000000</td>\n",
       "    </tr>\n",
       "    <tr>\n",
       "      <th>50%</th>\n",
       "      <td>4.340000e+06</td>\n",
       "      <td>4600.000000</td>\n",
       "      <td>3.000000</td>\n",
       "      <td>1.000000</td>\n",
       "      <td>2.000000</td>\n",
       "      <td>0.000000</td>\n",
       "    </tr>\n",
       "    <tr>\n",
       "      <th>75%</th>\n",
       "      <td>5.740000e+06</td>\n",
       "      <td>6360.000000</td>\n",
       "      <td>3.000000</td>\n",
       "      <td>2.000000</td>\n",
       "      <td>2.000000</td>\n",
       "      <td>1.000000</td>\n",
       "    </tr>\n",
       "    <tr>\n",
       "      <th>max</th>\n",
       "      <td>1.330000e+07</td>\n",
       "      <td>16200.000000</td>\n",
       "      <td>6.000000</td>\n",
       "      <td>4.000000</td>\n",
       "      <td>4.000000</td>\n",
       "      <td>3.000000</td>\n",
       "    </tr>\n",
       "  </tbody>\n",
       "</table>\n",
       "</div>"
      ],
      "text/plain": [
       "              price          area    bedrooms   bathrooms     stories  \\\n",
       "count  5.450000e+02    545.000000  545.000000  545.000000  545.000000   \n",
       "mean   4.766729e+06   5150.541284    2.965138    1.286239    1.805505   \n",
       "std    1.870440e+06   2170.141023    0.738064    0.502470    0.867492   \n",
       "min    1.750000e+06   1650.000000    1.000000    1.000000    1.000000   \n",
       "25%    3.430000e+06   3600.000000    2.000000    1.000000    1.000000   \n",
       "50%    4.340000e+06   4600.000000    3.000000    1.000000    2.000000   \n",
       "75%    5.740000e+06   6360.000000    3.000000    2.000000    2.000000   \n",
       "max    1.330000e+07  16200.000000    6.000000    4.000000    4.000000   \n",
       "\n",
       "          parking  \n",
       "count  545.000000  \n",
       "mean     0.693578  \n",
       "std      0.861586  \n",
       "min      0.000000  \n",
       "25%      0.000000  \n",
       "50%      0.000000  \n",
       "75%      1.000000  \n",
       "max      3.000000  "
      ]
     },
     "execution_count": 269,
     "metadata": {},
     "output_type": "execute_result"
    }
   ],
   "source": [
    " df.describe()"
   ]
  },
  {
   "cell_type": "markdown",
   "id": "90955eae-9007-44b9-b49e-95bdb2ef6fc2",
   "metadata": {},
   "source": [
    "By analyzing the statistical measures of the dataset's attributes, we gathered the following insights:\n",
    "\n",
    "**Price:** The price of houses ranges **from 1,750,000 to 13,300,000**, with a median of **4,340,000**. This indicates a skew towards higher prices, as the 3rd quartile is much closer to the median than the maximum value, suggesting potential outliers at the higher end.\n",
    "\n",
    "**Area:** House sizes vary **from 1,650 to 16,200** square feet, with a median of **4,600** square feet. This suggests that there are more larger houses compared to smaller ones in the dataset.\n",
    "\n",
    "**Bedrooms:** The number of bedrooms ranges **from 1 to 6**, with a median of **3**, this implies that most houses have three or fewer bedrooms, with fewer homes having more than that.\n",
    "\n",
    "**Bathrooms:** The dataset shows a range of **1 to 4** bathrooms per house, with a median of **1**, indicating that most homes have just one bathroom.\n",
    "\n",
    "**Stories:** Houses in this dataset have **between 1 and 4** stories, with a median of **2**, meaning that the majority of homes have two or fewer stories.\n",
    "\n",
    "**Parking:** The number of parking spots ranges **from 0 to 3**, with a median of **0**. This suggests that most houses in the dataset likely do not have parking facilities."
   ]
  },
  {
   "cell_type": "markdown",
   "id": "47584d40-4a2c-4f79-88d4-6067b499b821",
   "metadata": {},
   "source": [
    "**Variance:**\n",
    "\n",
    "indicates how dispersion and spread of values.Therefore, our variance results indicate:\n",
    "\n",
    "price have high variance, so the level of dispersion and spread of values is high.\n",
    "\n",
    "stories have low variance, so the level of dispersion and spread of values is low."
   ]
  },
  {
   "cell_type": "code",
   "execution_count": 273,
   "id": "89bb8e32-ae0c-4188-8ad7-3f05e0b79a26",
   "metadata": {},
   "outputs": [
    {
     "data": {
      "text/plain": [
       "price        3.498544e+12\n",
       "area         4.709512e+06\n",
       "bedrooms     5.447383e-01\n",
       "bathrooms    2.524757e-01\n",
       "stories      7.525432e-01\n",
       "parking      7.423300e-01\n",
       "dtype: float64"
      ]
     },
     "execution_count": 273,
     "metadata": {},
     "output_type": "execute_result"
    }
   ],
   "source": [
    "df.var(numeric_only=True)"
   ]
  },
  {
   "cell_type": "markdown",
   "id": "2a4519fd-4f9a-4f49-8831-48b683876f66",
   "metadata": {},
   "source": [
    "**Categorical Summary:**"
   ]
  },
  {
   "cell_type": "code",
   "execution_count": 276,
   "id": "dfcc87bb-3dc5-4116-b283-cb417bdbf11f",
   "metadata": {},
   "outputs": [
    {
     "data": {
      "text/html": [
       "<div>\n",
       "<style scoped>\n",
       "    .dataframe tbody tr th:only-of-type {\n",
       "        vertical-align: middle;\n",
       "    }\n",
       "\n",
       "    .dataframe tbody tr th {\n",
       "        vertical-align: top;\n",
       "    }\n",
       "\n",
       "    .dataframe thead th {\n",
       "        text-align: right;\n",
       "    }\n",
       "</style>\n",
       "<table border=\"1\" class=\"dataframe\">\n",
       "  <thead>\n",
       "    <tr style=\"text-align: right;\">\n",
       "      <th></th>\n",
       "      <th>mainroad</th>\n",
       "      <th>guestroom</th>\n",
       "      <th>basement</th>\n",
       "      <th>hotwaterheating</th>\n",
       "      <th>airconditioning</th>\n",
       "      <th>prefarea</th>\n",
       "      <th>furnishingstatus</th>\n",
       "    </tr>\n",
       "  </thead>\n",
       "  <tbody>\n",
       "    <tr>\n",
       "      <th>count</th>\n",
       "      <td>545</td>\n",
       "      <td>545</td>\n",
       "      <td>545</td>\n",
       "      <td>545</td>\n",
       "      <td>545</td>\n",
       "      <td>545</td>\n",
       "      <td>545</td>\n",
       "    </tr>\n",
       "    <tr>\n",
       "      <th>unique</th>\n",
       "      <td>2</td>\n",
       "      <td>2</td>\n",
       "      <td>2</td>\n",
       "      <td>2</td>\n",
       "      <td>2</td>\n",
       "      <td>2</td>\n",
       "      <td>3</td>\n",
       "    </tr>\n",
       "    <tr>\n",
       "      <th>top</th>\n",
       "      <td>yes</td>\n",
       "      <td>no</td>\n",
       "      <td>no</td>\n",
       "      <td>no</td>\n",
       "      <td>no</td>\n",
       "      <td>no</td>\n",
       "      <td>semi-furnished</td>\n",
       "    </tr>\n",
       "    <tr>\n",
       "      <th>freq</th>\n",
       "      <td>468</td>\n",
       "      <td>448</td>\n",
       "      <td>354</td>\n",
       "      <td>520</td>\n",
       "      <td>373</td>\n",
       "      <td>417</td>\n",
       "      <td>227</td>\n",
       "    </tr>\n",
       "  </tbody>\n",
       "</table>\n",
       "</div>"
      ],
      "text/plain": [
       "       mainroad guestroom basement hotwaterheating airconditioning prefarea  \\\n",
       "count       545       545      545             545             545      545   \n",
       "unique        2         2        2               2               2        2   \n",
       "top         yes        no       no              no              no       no   \n",
       "freq        468       448      354             520             373      417   \n",
       "\n",
       "       furnishingstatus  \n",
       "count               545  \n",
       "unique                3  \n",
       "top      semi-furnished  \n",
       "freq                227  "
      ]
     },
     "execution_count": 276,
     "metadata": {},
     "output_type": "execute_result"
    }
   ],
   "source": [
    "df.describe(include=[object])"
   ]
  },
  {
   "cell_type": "markdown",
   "id": "5302637b-386e-4d7b-b19f-7fc6264c5d50",
   "metadata": {},
   "source": [
    "By analyzing dataset's Categorical attributes, we gathered the following insights:\n",
    "\n",
    "**mainroad:** The majority of the houses in this dataset are **located on a main road**, with **468 out of 545** properties having this feature. This shows that being near a main road is **common** in this dataset, likely offering convenience and accessibility.\n",
    "\n",
    "**guestroom:** Most houses do not have a guestroom, as **448** properties show **no** for this feature. This might suggest that having a guestroom is considered more of a **luxury or less common** in this set of houses.\n",
    "\n",
    "**basement:** Basements are also **less common**, with only **354** properties lacking one. This could be influenced by regional preferences or property type.\n",
    "\n",
    "**hotwaterheating:** The vast majority of homes do not have hot water heating, with **520** properties showing **no**. This suggests that either the homes use alternative heating methods or that hot water heating is **less of a priority** in this dataset.\n",
    "\n",
    "**airconditioning:** Air conditioning isn't widely present, with **373** homes **not having** it. This might reflect the climate of the area or the age of the properties, where air conditioning isn't a standard feature.\n",
    "\n",
    "**prefarea:** Only **128** homes are located in a **preferred area**, as most **417** homes are not. This could suggest a broader variety of locations and property types, with the majority not being classified as premium locations.\n",
    "\n",
    "**furnishingstatus:** Furnishing is a mix, but the **most common** option is **semi-furnished**, with **227** homes in this category. This could appeal to buyers looking for flexibility between a fully furnished home and an empty one."
   ]
  },
  {
   "cell_type": "markdown",
   "id": "59b95f2c-0c3d-4efc-8039-9c9e488a6dc5",
   "metadata": {},
   "source": [
    "**Missing Values:**\n",
    "\n",
    "there are no missing values"
   ]
  },
  {
   "cell_type": "code",
   "execution_count": 280,
   "id": "d1882df0-faa6-4096-8135-64624c8dd27a",
   "metadata": {},
   "outputs": [
    {
     "data": {
      "text/plain": [
       "price               0\n",
       "area                0\n",
       "bedrooms            0\n",
       "bathrooms           0\n",
       "stories             0\n",
       "mainroad            0\n",
       "guestroom           0\n",
       "basement            0\n",
       "hotwaterheating     0\n",
       "airconditioning     0\n",
       "parking             0\n",
       "prefarea            0\n",
       "furnishingstatus    0\n",
       "dtype: int64"
      ]
     },
     "execution_count": 280,
     "metadata": {},
     "output_type": "execute_result"
    }
   ],
   "source": [
    "df.isnull().sum()"
   ]
  },
  {
   "cell_type": "markdown",
   "id": "19a57cd8-e51f-43d5-a71a-e1ee5ccc690b",
   "metadata": {},
   "source": [
    "## Data Visualization:"
   ]
  },
  {
   "cell_type": "markdown",
   "id": "a0eae2ff-2741-46f3-a703-3ddcab843b9b",
   "metadata": {},
   "source": [
    "## 1. Scatter plot:\n",
    "A scatter plot is a useful visualization tool that helps us understand the **relationship between two numerical attributes**. It displays data points as dots on a **two-dimensional** graph, with one attribute on the x-axis and the other on the y-axis. This format makes it easy to identify trends, patterns, and correlations, transforming complex data into a more accessible format. Scatter plots are widely used in various fields, making data analysis simpler and more intuitive. "
   ]
  },
  {
   "cell_type": "code",
   "execution_count": 284,
   "id": "561acc63-3908-473e-9fca-0b1f007d66e2",
   "metadata": {},
   "outputs": [
    {
     "data": {
      "image/png": "[encoded data removed]",
      "text/plain": [
       "<Figure size 600x400 with 1 Axes>"
      ]
     },
     "metadata": {},
     "output_type": "display_data"
    }
   ],
   "source": [
    "import matplotlib.pyplot as plt\n",
    "import seaborn as sns\n",
    "\n",
    "##plt.scatter( df['area'], df['price'],c=df['price'])+plt.colorbar(label='Price')\n",
    "\n",
    "plt.figure(figsize=(6, 4))\n",
    "sns.scatterplot(x='area', y='price', data= df)\n",
    "plt.title('Scatter Plot of Area vs Price')\n",
    "plt.xlabel('Area')\n",
    "plt.ylabel('Price') \n",
    "plt.show()"
   ]
  },
  {
   "cell_type": "code",
   "execution_count": null,
   "id": "99b51d73-0cf7-4095-aa1e-2f9e29a09eda",
   "metadata": {},
   "outputs": [],
   "source": []
  }
 ],
 "metadata": {
  "kernelspec": {
   "display_name": "Python 3 (ipykernel)",
   "language": "python",
   "name": "python3"
  },
  "language_info": {
   "codemirror_mode": {
    "name": "ipython",
    "version": 3
   },
   "file_extension": ".py",
   "mimetype": "text/x-python",
   "name": "python",
   "nbconvert_exporter": "python",
   "pygments_lexer": "ipython3",
   "version": "3.12.4"
  }
 },
 "nbformat": 4,
 "nbformat_minor": 5
}
