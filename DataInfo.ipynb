{
 "cells": [
  {
   "cell_type": "markdown",
   "id": "b8ed1757-4cfe-4a85-9f39-53fdb99bff1d",
   "metadata": {},
   "source": [
    "## Housing Prices Predictions\r",
    "## \n",
    "## Motivation:\r\n",
    "We chose a topic about housing prices because of its great importance and direct impact on individuals and the economy. The real estate market is constantly changing, and analyzing the factors that affect home prices can provide valuable insights for buyers, sellers, and investors. Through **data mining**, we can use big data to extract useful information, predicting how the prices of various properties will grow or will not change by examining their different features. \r\n",
    "\r\n",
    "## Problem:\r\n",
    "Our project focuses on predicting how the prices of various properties will change by examining their different features. We aim to provide useful information that will help both consumers and realtors understand whether property prices are likely to rise, or stay the same based on the specific characteristics of each property.\r\n",
    "\r\n",
    "## Goal of Collecting this Dataset:\r\n",
    "The goal of collecting this dataset is for classification and clustering Techniques to identify patterns and group properties based on their features to predict price, such as area, number of bedrooms, bathrooms, and amenities, as well as to classify properties by their furnishing status and other characteristics for more detailed analysis of the housing market.\r\n",
    "\r\n",
    "## Source of the Dataset:\r\n",
    "The dataset was sourced from the kaggle website in this URL: https://www.kaggle.com/datasets/harishkumardatalab/housing-price-prediction\r\n",
    "\r\n",
    "## General Information:\r\n",
    "• Number of columns: 13\r\n",
    "\r\n",
    "• Number of rows: 545\r\n",
    "\r\n",
    "• Type of Attributes: Numeric, Symmetric, Binary, Ordinal.\r\n",
    "\n",
    "• Class Label: predicting how the prices of various properties will change by examining their different features.\r\n",

    "## About Dataset:\r\n",
    "• Price: The price of the house.\r\n",
    "\r\n",
    "• Area: The total area of the house in square feet.\r\n",
    "\r\n",
    "• Bedrooms: The number of bedrooms in the house.\r\n",
    "\r\n",
    "• Bathrooms: The number of bathrooms in the house.\r\n",
    "\r\n",
    "• Stories: The number of stories in the house.\r\n",
    "\r\n",
    "• Mainroad: Whether the house is connected to the main road (Yes/No).\r\n",
    "\r\n",
    "• Guestroom: Whether the house has a guest room (Yes/No).\r\n",
    "\r\n",
    "• Basement: Whether the house has a basement (Yes/No).\r\n",
    "\r\n",
    "• Hot water heating: Whether the house has a hot water heating system (Yes/No).\r\n",
    "\r\n",
    "• Airconditioning: Whether the house has an air conditioning system (Yes/No).\r\n",
    "\r\n",
    "• Parking: The number of parking spaces available within the house.\r\n",
    "\r\n",
    "• Prefarea: Whether the house is located in a preferred area (Yes/No).\r\n",
    "\r\n",
    "• Furnishing status: The furnishing status of the house (Fully Furnished, Semi-Furnished, Unfurnished).\r\n",
    "\r\n",
    "## Students Name:\r\n",
    "Nouf Almuhanna ,Raseel Almanea ,Maha Alnassar ,Hanen Alfosely ,Dalia Alsubaie"
   ]
  }
 ],
 "metadata": {
  "kernelspec": {
   "display_name": "Python 3 (ipykernel)",
   "language": "python",
   "name": "python3"
  },
  "language_info": {
   "codemirror_mode": {
    "name": "ipython",
    "version": 3
   },
   "file_extension": ".py",
   "mimetype": "text/x-python",
   "name": "python",
   "nbconvert_exporter": "python",
   "pygments_lexer": "ipython3",
   "version": "3.12.4"
  }
 },
 "nbformat": 4,
 "nbformat_minor": 5
}
